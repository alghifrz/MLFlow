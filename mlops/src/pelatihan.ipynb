{
 "cells": [
  {
   "cell_type": "code",
   "execution_count": 31,
   "metadata": {},
   "outputs": [],
   "source": [
    "import mlflow\n",
    "import mlflow.sklearn\n",
    "import mlflow.tensorflow\n",
    "import pandas as pd\n",
    "from sklearn.model_selection import train_test_split\n",
    "from sklearn.linear_model import LogisticRegression\n",
    "from sklearn.ensemble import RandomForestClassifier\n",
    "from sklearn.metrics import accuracy_score, roc_auc_score\n",
    "from sklearn.feature_extraction.text import TfidfVectorizer\n",
    "from sklearn.preprocessing import LabelEncoder\n",
    "from tensorflow.keras.models import Sequential\n",
    "from tensorflow.keras.layers import Dense\n",
    "from tensorflow.keras.optimizers import Adam\n",
    "import tensorflow as tf"
   ]
  },
  {
   "cell_type": "code",
   "execution_count": 32,
   "metadata": {},
   "outputs": [],
   "source": [
    "# Set URI untuk MLflow Tracking Server\n",
    "mlflow.set_tracking_uri(\"http://127.0.0.1:5001\")"
   ]
  },
  {
   "cell_type": "code",
   "execution_count": 33,
   "metadata": {},
   "outputs": [],
   "source": [
    "def load_and_preprocess_data(dataset_path):\n",
    "    # Memuat dataset\n",
    "    data = pd.read_csv(dataset_path)\n",
    "\n",
    "    # Langkah 1: Pemrosesan - Mengubah teks menjadi data numerik menggunakan TfidfVectorizer\n",
    "    vectorizer = TfidfVectorizer(stop_words='english')  # Menghapus stop words umum dalam bahasa Inggris\n",
    "    X = vectorizer.fit_transform(data['Message'])  # Asumsi 'Message' adalah kolom yang berisi teks\n",
    "\n",
    "    # Langkah 2: Mengkodekan label 'ham' dan 'spam' menjadi nilai numerik\n",
    "    label_encoder = LabelEncoder()\n",
    "    y = label_encoder.fit_transform(data['Category'])  # 'ham' -> 0, 'spam' -> 1\n",
    "\n",
    "    return X, y"
   ]
  },
  {
   "cell_type": "code",
   "execution_count": 34,
   "metadata": {},
   "outputs": [],
   "source": [
    "def train_and_log_model(data_path, model_type):\n",
    "    # Memuat dan memproses dataset\n",
    "    X, y = load_and_preprocess_data(data_path)\n",
    "    \n",
    "    # Memulai run MLflow\n",
    "    with mlflow.start_run(run_name=f\"model_{model_type}\") as run:\n",
    "        X_train, X_test, y_train, y_test = train_test_split(X, y, test_size=0.2, random_state=42)\n",
    "        \n",
    "        if model_type == 'LogisticRegression':\n",
    "            model = LogisticRegression(max_iter=1000)\n",
    "            params = {'max_iter': 1000}\n",
    "        \n",
    "        elif model_type == 'RandomForest':\n",
    "            model = RandomForestClassifier(n_estimators=100, max_depth=5, random_state=42)\n",
    "            params = {'n_estimators': 100, 'max_depth': 5, 'random_state': 42}\n",
    "        \n",
    "        elif model_type == 'NeuralNetwork':\n",
    "            model = Sequential([\n",
    "                Dense(64, input_dim=X_train.shape[1], activation='relu'),\n",
    "                Dense(32, activation='relu'),\n",
    "                Dense(1, activation='sigmoid')\n",
    "            ])\n",
    "            model.compile(optimizer=Adam(), loss='binary_crossentropy', metrics=['accuracy'])\n",
    "            params = {'optimizer': 'Adam', 'loss': 'binary_crossentropy'}\n",
    "        \n",
    "        # Melatih model\n",
    "        if model_type == 'NeuralNetwork':\n",
    "            model.fit(X_train.toarray(), y_train, epochs=10, batch_size=32, verbose=0)  # Pastikan input dalam bentuk array\n",
    "            # Neural Network memerlukan evaluasi terpisah\n",
    "            y_pred = model.predict(X_test.toarray())  # Pastikan X_test juga dalam bentuk array\n",
    "            y_pred = (y_pred > 0.5).astype(int)  # Mengubah probabilitas menjadi label biner (0 atau 1)\n",
    "        else:\n",
    "            model.fit(X_train, y_train)\n",
    "            y_pred = model.predict(X_test)\n",
    "\n",
    "        # Menghitung metrik\n",
    "        y_prob = model.predict_proba(X_test)[:, 1] if hasattr(model, 'predict_proba') else y_pred\n",
    "        metrics = {\n",
    "            'accuracy': accuracy_score(y_test, y_pred),\n",
    "            'auc_score': roc_auc_score(y_test, y_prob)\n",
    "        }\n",
    "\n",
    "        # Mencatat parameter, metrik, dan model\n",
    "        mlflow.log_params(params)\n",
    "        mlflow.log_metrics(metrics)\n",
    "        mlflow.set_tags({'model_type': model_type})\n",
    "        \n",
    "        if model_type == 'NeuralNetwork':\n",
    "            mlflow.tensorflow.log_model(model, f\"model_{model_type}\")\n",
    "        else:\n",
    "            mlflow.sklearn.log_model(model, f\"model_{model_type}\")\n",
    "\n",
    "        print(f\"Model {model_type} berhasil dicatat dengan run_id: {run.info.run_id}\")\n",
    "        return run.info.run_id\n"
   ]
  },
  {
   "cell_type": "code",
   "execution_count": 35,
   "metadata": {},
   "outputs": [
    {
     "name": "stderr",
     "output_type": "stream",
     "text": [
      "2025/01/01 14:51:55 WARNING mlflow.models.model: Model logged without a signature and input example. Please set `input_example` parameter when logging the model to auto infer the model signature.\n"
     ]
    },
    {
     "name": "stdout",
     "output_type": "stream",
     "text": [
      "Model LogisticRegression berhasil dicatat dengan run_id: 6a93dba5065f4ccc863777c9c0b84730\n",
      "🏃 View run model_LogisticRegression at: http://127.0.0.1:5001/#/experiments/0/runs/6a93dba5065f4ccc863777c9c0b84730\n",
      "🧪 View experiment at: http://127.0.0.1:5001/#/experiments/0\n"
     ]
    },
    {
     "name": "stderr",
     "output_type": "stream",
     "text": [
      "2025/01/01 14:51:59 WARNING mlflow.models.model: Model logged without a signature and input example. Please set `input_example` parameter when logging the model to auto infer the model signature.\n",
      "d:\\UNIVERSITAS PERTAMINA\\Semester 5\\Kapita\\MLOps\\mlops\\Lib\\site-packages\\keras\\src\\layers\\core\\dense.py:87: UserWarning: Do not pass an `input_shape`/`input_dim` argument to a layer. When using Sequential models, prefer using an `Input(shape)` object as the first layer in the model instead.\n",
      "  super().__init__(activity_regularizer=activity_regularizer, **kwargs)\n"
     ]
    },
    {
     "name": "stdout",
     "output_type": "stream",
     "text": [
      "Model RandomForest berhasil dicatat dengan run_id: 3c81f89db0b340a1aa37142fddb25382\n",
      "🏃 View run model_RandomForest at: http://127.0.0.1:5001/#/experiments/0/runs/3c81f89db0b340a1aa37142fddb25382\n",
      "🧪 View experiment at: http://127.0.0.1:5001/#/experiments/0\n",
      "\u001b[1m35/35\u001b[0m \u001b[32m━━━━━━━━━━━━━━━━━━━━\u001b[0m\u001b[37m\u001b[0m \u001b[1m0s\u001b[0m 2ms/step\n"
     ]
    },
    {
     "name": "stderr",
     "output_type": "stream",
     "text": [
      "2025/01/01 14:52:05 WARNING mlflow.tensorflow: You are saving a TensorFlow Core model or Keras model without a signature. Inference with mlflow.pyfunc.spark_udf() will not work unless the model's pyfunc representation accepts pandas DataFrames as inference inputs.\n",
      "2025/01/01 14:52:11 WARNING mlflow.models.model: Model logged without a signature and input example. Please set `input_example` parameter when logging the model to auto infer the model signature.\n"
     ]
    },
    {
     "name": "stdout",
     "output_type": "stream",
     "text": [
      "Model NeuralNetwork berhasil dicatat dengan run_id: a4b902dfb7944d6bb93e71753dcca39b\n",
      "🏃 View run model_NeuralNetwork at: http://127.0.0.1:5001/#/experiments/0/runs/a4b902dfb7944d6bb93e71753dcca39b\n",
      "🧪 View experiment at: http://127.0.0.1:5001/#/experiments/0\n",
      "Logistic Regression run_id: 6a93dba5065f4ccc863777c9c0b84730\n",
      "Random Forest run_id: 3c81f89db0b340a1aa37142fddb25382\n",
      "Neural Network run_id: a4b902dfb7944d6bb93e71753dcca39b\n"
     ]
    }
   ],
   "source": [
    "if __name__ == \"__main__\":\n",
    "    # Ganti path dataset sesuai dengan dataset Anda\n",
    "    dataset_path = \"data/spam.csv\"\n",
    "    \n",
    "    run_id_lr = train_and_log_model(dataset_path, 'LogisticRegression')\n",
    "    run_id_rf = train_and_log_model(dataset_path, 'RandomForest')\n",
    "    run_id_nn = train_and_log_model(dataset_path, 'NeuralNetwork')\n",
    "    \n",
    "    print(f\"Logistic Regression run_id: {run_id_lr}\")\n",
    "    print(f\"Random Forest run_id: {run_id_rf}\")\n",
    "    print(f\"Neural Network run_id: {run_id_nn}\")"
   ]
  }
 ],
 "metadata": {
  "kernelspec": {
   "display_name": "mlops",
   "language": "python",
   "name": "python3"
  },
  "language_info": {
   "codemirror_mode": {
    "name": "ipython",
    "version": 3
   },
   "file_extension": ".py",
   "mimetype": "text/x-python",
   "name": "python",
   "nbconvert_exporter": "python",
   "pygments_lexer": "ipython3",
   "version": "3.12.4"
  }
 },
 "nbformat": 4,
 "nbformat_minor": 2
}
